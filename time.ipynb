{
 "cells": [
  {
   "cell_type": "markdown",
   "metadata": {},
   "source": [
    "Voici un exemple de programme Python pour créer une horloge numérique en temps réel utilisant la bibliothèque tkinter pour l'interface graphique. Cette horloge mettra à jour l'heure toutes les secondes pour afficher l'heure en temps réel."
   ]
  },
  {
   "cell_type": "code",
   "execution_count": null,
   "metadata": {},
   "outputs": [],
   "source": [
    "import tkinter as tk\n",
    "import time\n",
    "\n",
    "def update_time():\n",
    "    current_time = time.strftime(\"%H:%M:%S\") \n",
    "    label.config(text=current_time) \n",
    "    label.after(1000, update_time) \n",
    "\n",
    "root = tk.Tk()\n",
    "root.title(\"Horloge numérique\")  \n",
    "root.geometry(\"300x150\") \n",
    "\n",
    "label = tk.Label(root, font=(\"Helvetica\", 40), background=\"black\", foreground=\"white\")\n",
    "label.pack(expand=True)\n",
    "update_time()\n",
    "root.mainloop()\n"
   ]
  }
 ],
 "metadata": {
  "kernelspec": {
   "display_name": "Python 3",
   "language": "python",
   "name": "python3"
  },
  "language_info": {
   "codemirror_mode": {
    "name": "ipython",
    "version": 3
   },
   "file_extension": ".py",
   "mimetype": "text/x-python",
   "name": "python",
   "nbconvert_exporter": "python",
   "pygments_lexer": "ipython3",
   "version": "3.11.3"
  }
 },
 "nbformat": 4,
 "nbformat_minor": 2
}
