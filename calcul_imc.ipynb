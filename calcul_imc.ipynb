{
 "cells": [
  {
   "cell_type": "markdown",
   "metadata": {},
   "source": [
    "# Calcul de l'Indice de Masse Corporelle :\n",
    "L'IMC se calcule selon la formule suivante :\n",
    "\n",
    "IMC = poids (en kg)/taille**2 (en m)\n",
    "\n",
    "En fonction du résultat, on peut classer l'IMC selon les catégories suivantes :\n",
    "\n",
    "1. Inférieur à 18.5 : Insuffisance pondérale (maigreur).\n",
    "\n",
    "2. Entre 18.5 et 24.9 : Poids normal.\n",
    "\n",
    "3. Entre 25 et 29.9 : Surpoids.\n",
    "\n",
    "4. 30 ou plus : Obésité."
   ]
  },
  {
   "cell_type": "code",
   "execution_count": 3,
   "metadata": {},
   "outputs": [
    {
     "name": "stdout",
     "output_type": "stream",
     "text": [
      "Bienvenue dans le calculateur d'IMC !\n",
      "Votre IMC est de : 22.86\n",
      "Vous avez un poids normal.\n"
     ]
    }
   ],
   "source": [
    "def calcul_imc():\n",
    "    print(\"Bienvenue dans le calculateur d'IMC !\")\n",
    "    poids = float(input(\"Entrez votre poids en kg : \"))\n",
    "    taille = float(input(\"Entrez votre taille en mètres : \"))\n",
    "    imc = poids / (taille ** 2)\n",
    "    print(f\"Votre IMC est de : {imc:.2f}\")\n",
    "    if imc < 18.5:\n",
    "        print(\"Vous êtes en insuffisance pondérale (maigreur).\")\n",
    "    elif 18.5 <= imc < 24.9:\n",
    "        print(\"Vous avez un poids normal.\")\n",
    "    elif 25 <= imc < 29.9:\n",
    "        print(\"Vous êtes en surpoids.\")\n",
    "    else:\n",
    "        print(\"Vous êtes en obésité.\")\n",
    "calcul_imc()\n"
   ]
  }
 ],
 "metadata": {
  "kernelspec": {
   "display_name": "Python 3",
   "language": "python",
   "name": "python3"
  },
  "language_info": {
   "codemirror_mode": {
    "name": "ipython",
    "version": 3
   },
   "file_extension": ".py",
   "mimetype": "text/x-python",
   "name": "python",
   "nbconvert_exporter": "python",
   "pygments_lexer": "ipython3",
   "version": "3.11.3"
  }
 },
 "nbformat": 4,
 "nbformat_minor": 2
}
