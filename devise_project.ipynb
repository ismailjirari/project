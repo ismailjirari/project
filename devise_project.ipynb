{
 "cells": [
  {
   "cell_type": "markdown",
   "metadata": {},
   "source": [
    "# Étapes pour le programme :\n",
    "\n",
    "1. Définir un dictionnaire avec des taux de conversion pour quelques devises.\n",
    "\n",
    "2. Demander à l'utilisateur d'entrer :\n",
    "\n",
    "       . La devise de départ.\n",
    "\n",
    "       . La devise cible.\n",
    "\n",
    "       . Le montant à convertir.\n",
    "\n",
    "3. Effectuer la conversion en fonction du taux de change.\n",
    "\n",
    "4. Afficher le résultat."
   ]
  },
  {
   "cell_type": "code",
   "execution_count": 5,
   "metadata": {},
   "outputs": [
    {
     "name": "stdout",
     "output_type": "stream",
     "text": [
      "Devises disponibles :\n",
      "EUR\n",
      "USD\n",
      "GBP\n",
      "JPY\n",
      "CAD\n",
      "100.00 USD équivaut à 90.91 EUR.\n"
     ]
    }
   ],
   "source": [
    "def convertisseur_devises():\n",
    "    taux_conversion = {\n",
    "        \"EUR\": 1.0,         # Euro\n",
    "        \"USD\": 1.1,         # Dollar américain\n",
    "        \"GBP\": 0.85,        # Livre sterling\n",
    "        \"JPY\": 146.0,       # Yen japonais\n",
    "        \"CAD\": 1.45         # Dollar canadien\n",
    "    }\n",
    "    print(\"Devises disponibles :\")\n",
    "    for i in taux_conversion.keys():\n",
    "        print(i)\n",
    "\n",
    "    devise_depart = input(\"Entrez la devise de départ : \").upper()\n",
    "    devise_cible = input(\"Entrez la devise cible : \").upper()\n",
    "    montant = float(input(\"Entrez le montant à convertir : \"))\n",
    "\n",
    "    if devise_depart not in taux_conversion or devise_cible not in taux_conversion:\n",
    "        print(\"Erreur : devise non reconnue.\")\n",
    "        return\n",
    "    montant_euros = montant / taux_conversion[devise_depart]\n",
    "    montant_converti = montant_euros * taux_conversion[devise_cible]\n",
    "    print(f\"{montant:.2f} {devise_depart} équivaut à {montant_converti:.2f} {devise_cible}.\")\n",
    "    \n",
    "convertisseur_devises()\n"
   ]
  }
 ],
 "metadata": {
  "kernelspec": {
   "display_name": "Python 3",
   "language": "python",
   "name": "python3"
  },
  "language_info": {
   "codemirror_mode": {
    "name": "ipython",
    "version": 3
   },
   "file_extension": ".py",
   "mimetype": "text/x-python",
   "name": "python",
   "nbconvert_exporter": "python",
   "pygments_lexer": "ipython3",
   "version": "3.11.3"
  }
 },
 "nbformat": 4,
 "nbformat_minor": 2
}
