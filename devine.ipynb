{
 "cells": [
  {
   "cell_type": "markdown",
   "metadata": {},
   "source": [
    "# Jeu \"Devine le nombre\" :\n",
    "\n",
    "Le jeu génère un nombre aléatoire entre un intervalle défini (par exemple, entre 1 et 30). Ensuite, l'utilisateur tente de deviner ce nombre. Le programme fournit des indices pour guider l'utilisateur, et le jeu continue jusqu'à ce que l'utilisateur trouve la bonne réponse."
   ]
  },
  {
   "cell_type": "code",
   "execution_count": 3,
   "metadata": {},
   "outputs": [
    {
     "name": "stdout",
     "output_type": "stream",
     "text": [
      "Bienvenue dans le jeu 'Devine le nombre' !\n",
      "Je pense à un nombre entre 1 et 30. À toi de le deviner !\n",
      "Trop petit ! Essayez encore.\n",
      "Trop petit ! Essayez encore.\n",
      "Bravo ! Vous avez deviné le nombre en 3 tentatives.\n"
     ]
    }
   ],
   "source": [
    "import random\n",
    "\n",
    "def devine_le_nombre():\n",
    "    nombre_secret = random.randint(1, 30)\n",
    "    tentative = 0\n",
    "    trouve = False\n",
    "    print(\"Bienvenue dans le jeu 'Devine le nombre' !\")\n",
    "    print(\"Je pense à un nombre entre 1 et 30. À toi de le deviner !\")\n",
    "    while not trouve:\n",
    "        try:\n",
    "            devine = int(input(\"Entrez votre estimation : \"))\n",
    "            tentative += 1 \n",
    "        except ValueError:\n",
    "            print(\"Veuillez entrer un nombre valide.\")\n",
    "            continue\n",
    "        if devine < nombre_secret:\n",
    "            print(\"Trop petit ! Essayez encore.\")\n",
    "        elif devine > nombre_secret:\n",
    "            print(\"Trop grand ! Essayez encore.\")\n",
    "        else:\n",
    "            print(f\"Bravo ! Vous avez deviné le nombre en {tentative} tentatives.\")\n",
    "            trouve = True\n",
    "devine_le_nombre()\n"
   ]
  }
 ],
 "metadata": {
  "kernelspec": {
   "display_name": "Python 3",
   "language": "python",
   "name": "python3"
  },
  "language_info": {
   "codemirror_mode": {
    "name": "ipython",
    "version": 3
   },
   "file_extension": ".py",
   "mimetype": "text/x-python",
   "name": "python",
   "nbconvert_exporter": "python",
   "pygments_lexer": "ipython3",
   "version": "3.11.3"
  }
 },
 "nbformat": 4,
 "nbformat_minor": 2
}
