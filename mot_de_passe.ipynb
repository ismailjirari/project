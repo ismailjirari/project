{
 "cells": [
  {
   "cell_type": "markdown",
   "metadata": {},
   "source": [
    "# Générateur de mot de passe :\n",
    "\n",
    "Le programme demande à l'utilisateur de spécifier la longueur du mot de passe, ainsi que s'il veut inclure des caractères spéciaux, des majuscules, ou des chiffres. Ensuite, il génère un mot de passe qui respecte ces critères."
   ]
  },
  {
   "cell_type": "code",
   "execution_count": 7,
   "metadata": {},
   "outputs": [
    {
     "name": "stdout",
     "output_type": "stream",
     "text": [
      "Votre mot de passe généré est : VkRD2?eKr+Qk&\n"
     ]
    }
   ],
   "source": [
    "import random\n",
    "import string\n",
    "\n",
    "def generate_password():\n",
    "    longueur = int(input(\"Entrez la longueur du mot de passe : \"))\n",
    "    \n",
    "    include_uppercase = input(\"Inclure des majuscules (O/N) ? \").lower() == 'o'\n",
    "    include_digits = input(\"Inclure des chiffres (O/N) ? \").lower() == 'o'\n",
    "    include_specials = input(\"Inclure des caractères spéciaux (O/N) ? \").lower() == 'o'\n",
    "\n",
    "    char_set = string.ascii_lowercase  \n",
    "\n",
    "    if include_uppercase:\n",
    "        char_set += string.ascii_uppercase \n",
    "    if include_digits:\n",
    "        char_set += string.digits \n",
    "    if include_specials:\n",
    "        char_set += string.punctuation \n",
    "         \n",
    "    password = ''.join(random.choice(char_set) for _ in range(longueur))\n",
    "    print(f\"Votre mot de passe généré est : {password}\")\n",
    "\n",
    "generate_password()\n"
   ]
  }
 ],
 "metadata": {
  "kernelspec": {
   "display_name": "Python 3",
   "language": "python",
   "name": "python3"
  },
  "language_info": {
   "codemirror_mode": {
    "name": "ipython",
    "version": 3
   },
   "file_extension": ".py",
   "mimetype": "text/x-python",
   "name": "python",
   "nbconvert_exporter": "python",
   "pygments_lexer": "ipython3",
   "version": "3.11.3"
  }
 },
 "nbformat": 4,
 "nbformat_minor": 2
}
